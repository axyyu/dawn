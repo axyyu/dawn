{
 "cells": [
  {
   "cell_type": "code",
   "execution_count": 3,
   "metadata": {},
   "outputs": [],
   "source": [
    "from watson_developer_cloud import DiscoveryV1\n",
    "import json"
   ]
  },
  {
   "cell_type": "code",
   "execution_count": 21,
   "metadata": {},
   "outputs": [],
   "source": [
    "discovery = DiscoveryV1(\n",
    "    version= \"2018-03-05\",\n",
    "    username= '1d4c9a07-5a07-474e-ba06-2f6f05a3231a',\n",
    "    password= 'SpJY66ibjlN0'\n",
    ")\n",
    "attributes = {}"
   ]
  },
  {
   "cell_type": "code",
   "execution_count": 22,
   "metadata": {},
   "outputs": [
    {
     "name": "stdout",
     "output_type": "stream",
     "text": [
      "{\n",
      "  \"environments\": [\n",
      "    {\n",
      "      \"environment_id\": \"system\",\n",
      "      \"name\": \"Watson System Environment\",\n",
      "      \"description\": \"Shared system data sources\",\n",
      "      \"read_only\": true\n",
      "    }\n",
      "  ]\n",
      "}\n"
     ]
    }
   ],
   "source": [
    "# LISTS ENVIRONMENTS\n",
    "environments = discovery.list_environments()\n",
    "print(json.dumps(environments, indent=2))"
   ]
  },
  {
   "cell_type": "code",
   "execution_count": 23,
   "metadata": {},
   "outputs": [
    {
     "name": "stdout",
     "output_type": "stream",
     "text": [
      "{\n",
      "  \"environment_id\": \"9d4cd655-bc43-45a7-bba9-f592bd15cd96\",\n",
      "  \"name\": \"CORESEARCH\",\n",
      "  \"description\": \"\",\n",
      "  \"created\": \"2018-05-19T16:47:34.338Z\",\n",
      "  \"updated\": \"2018-05-19T16:47:34.338Z\",\n",
      "  \"status\": \"active\",\n",
      "  \"read_only\": false,\n",
      "  \"index_capacity\": {\n",
      "    \"documents\": {\n",
      "      \"available\": 0,\n",
      "      \"maximum_allowed\": 2000\n",
      "    },\n",
      "    \"disk_usage\": {\n",
      "      \"used_bytes\": 0,\n",
      "      \"maximum_allowed_bytes\": 200000000\n",
      "    },\n",
      "    \"collections\": {\n",
      "      \"available\": 0,\n",
      "      \"maximum_allowed\": 0\n",
      "    }\n",
      "  }\n",
      "}\n"
     ]
    }
   ],
   "source": [
    "# NEW ENVIRONMENT\n",
    "response = discovery.create_environment(\n",
    "    name=\"CORESEARCH\"\n",
    ")\n",
    "\n",
    "print(json.dumps(response, indent=2))"
   ]
  },
  {
   "cell_type": "code",
   "execution_count": 24,
   "metadata": {},
   "outputs": [],
   "source": [
    "attributes[\"env_id\"] = '9d4cd655-bc43-45a7-bba9-f592bd15cd96'"
   ]
  },
  {
   "cell_type": "code",
   "execution_count": 25,
   "metadata": {},
   "outputs": [
    {
     "name": "stdout",
     "output_type": "stream",
     "text": [
      "{\n",
      "  \"configurations\": [\n",
      "    {\n",
      "      \"configuration_id\": \"f80a7609-7fb6-4a59-b50c-92c467ebcee6\",\n",
      "      \"name\": \"Default Configuration\",\n",
      "      \"description\": \"The configuration used by default when creating a new collection without specifying a configuration_id.\",\n",
      "      \"created\": \"2018-05-19T16:47:34.379Z\",\n",
      "      \"updated\": \"2018-05-19T16:47:34.379Z\"\n",
      "    }\n",
      "  ]\n",
      "}\n"
     ]
    }
   ],
   "source": [
    "configs = discovery.list_configurations(attributes['env_id'])\n",
    "print(json.dumps(configs, indent=2))"
   ]
  },
  {
   "cell_type": "code",
   "execution_count": 26,
   "metadata": {},
   "outputs": [],
   "source": [
    "attributes['config_id'] = 'f80a7609-7fb6-4a59-b50c-92c467ebcee6' #Default Config"
   ]
  },
  {
   "cell_type": "code",
   "execution_count": 27,
   "metadata": {},
   "outputs": [
    {
     "name": "stdout",
     "output_type": "stream",
     "text": [
      "{\n",
      "  \"name\": \"IBET-Test\",\n",
      "  \"collection_id\": \"ced85a09-712a-4c8a-8a8b-7ca6e98c7587\",\n",
      "  \"description\": \"Collection of articles for IBET Project\",\n",
      "  \"created\": \"2018-05-19T16:50:52.057Z\",\n",
      "  \"updated\": \"2018-05-19T16:50:52.057Z\",\n",
      "  \"configuration_id\": \"f80a7609-7fb6-4a59-b50c-92c467ebcee6\",\n",
      "  \"language\": \"en\",\n",
      "  \"status\": \"active\"\n",
      "}\n"
     ]
    }
   ],
   "source": [
    "new_collection = discovery.create_collection(environment_id=attributes['env_id'], \n",
    "                                             name='IBET-Test', \n",
    "                                             description='Collection of articles for IBET Project')\n",
    "print(json.dumps(new_collection, indent=2))"
   ]
  },
  {
   "cell_type": "code",
   "execution_count": 28,
   "metadata": {},
   "outputs": [
    {
     "name": "stdout",
     "output_type": "stream",
     "text": [
      "{\n",
      "  \"collections\": [\n",
      "    {\n",
      "      \"collection_id\": \"ced85a09-712a-4c8a-8a8b-7ca6e98c7587\",\n",
      "      \"name\": \"IBET-Test\",\n",
      "      \"configuration_id\": \"f80a7609-7fb6-4a59-b50c-92c467ebcee6\",\n",
      "      \"language\": \"en\",\n",
      "      \"status\": \"active\",\n",
      "      \"description\": \"Collection of articles for IBET Project\",\n",
      "      \"created\": \"2018-05-19T16:50:52.057Z\",\n",
      "      \"updated\": \"2018-05-19T16:50:52.057Z\"\n",
      "    }\n",
      "  ]\n",
      "}\n"
     ]
    }
   ],
   "source": [
    "collections = discovery.list_collections(attributes['env_id'])\n",
    "print(json.dumps(collections, indent=2))"
   ]
  },
  {
   "cell_type": "code",
   "execution_count": 29,
   "metadata": {},
   "outputs": [],
   "source": [
    "attributes['collect_id'] = 'ced85a09-712a-4c8a-8a8b-7ca6e98c7587'"
   ]
  },
  {
   "cell_type": "code",
   "execution_count": 33,
   "metadata": {},
   "outputs": [],
   "source": [
    "from NatureJournal import NatureJournal"
   ]
  },
  {
   "cell_type": "code",
   "execution_count": 34,
   "metadata": {},
   "outputs": [
    {
     "ename": "TypeError",
     "evalue": "obtain_articles() missing 1 required positional argument: 'query'",
     "output_type": "error",
     "traceback": [
      "\u001b[0;31m---------------------------------------------------------------------------\u001b[0m",
      "\u001b[0;31mTypeError\u001b[0m                                 Traceback (most recent call last)",
      "\u001b[0;32m<ipython-input-34-2616a9187440>\u001b[0m in \u001b[0;36m<module>\u001b[0;34m()\u001b[0m\n\u001b[0;32m----> 1\u001b[0;31m \u001b[0mres\u001b[0m \u001b[0;34m=\u001b[0m \u001b[0mNatureJournal\u001b[0m\u001b[0;34m.\u001b[0m\u001b[0mobtain_articles\u001b[0m\u001b[0;34m(\u001b[0m\u001b[0;34m\"chicken\"\u001b[0m\u001b[0;34m)\u001b[0m\u001b[0;34m\u001b[0m\u001b[0m\n\u001b[0m",
      "\u001b[0;31mTypeError\u001b[0m: obtain_articles() missing 1 required positional argument: 'query'"
     ]
    }
   ],
   "source": [
    "res = NatureJournal.obtain_articles(\"chicken\")"
   ]
  },
  {
   "cell_type": "code",
   "execution_count": null,
   "metadata": {},
   "outputs": [],
   "source": []
  }
 ],
 "metadata": {
  "kernelspec": {
   "display_name": "coresearch",
   "language": "python",
   "name": "coresearch"
  },
  "language_info": {
   "codemirror_mode": {
    "name": "ipython",
    "version": 3
   },
   "file_extension": ".py",
   "mimetype": "text/x-python",
   "name": "python",
   "nbconvert_exporter": "python",
   "pygments_lexer": "ipython3",
   "version": "3.6.5"
  }
 },
 "nbformat": 4,
 "nbformat_minor": 2
}

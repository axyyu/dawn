{
 "cells": [
  {
   "cell_type": "code",
   "execution_count": 5,
   "metadata": {},
   "outputs": [],
   "source": [
    "from watson_developer_cloud import DiscoveryV1\n",
    "import json"
   ]
  },
  {
   "cell_type": "code",
   "execution_count": 6,
   "metadata": {},
   "outputs": [],
   "source": [
    "discovery = DiscoveryV1(\n",
    "    version= \"2018-03-05\",\n",
    "    username= '1d4c9a07-5a07-474e-ba06-2f6f05a3231a',\n",
    "    password= 'SpJY66ibjlN0'\n",
    ")\n",
    "attributes = {}"
   ]
  },
  {
   "cell_type": "code",
   "execution_count": 22,
   "metadata": {},
   "outputs": [
    {
     "name": "stdout",
     "output_type": "stream",
     "text": [
      "{\n",
      "  \"environments\": [\n",
      "    {\n",
      "      \"environment_id\": \"system\",\n",
      "      \"name\": \"Watson System Environment\",\n",
      "      \"description\": \"Shared system data sources\",\n",
      "      \"read_only\": true\n",
      "    }\n",
      "  ]\n",
      "}\n"
     ]
    }
   ],
   "source": [
    "# LISTS ENVIRONMENTS\n",
    "environments = discovery.list_environments()\n",
    "print(json.dumps(environments, indent=2))"
   ]
  },
  {
   "cell_type": "code",
   "execution_count": 23,
   "metadata": {},
   "outputs": [
    {
     "name": "stdout",
     "output_type": "stream",
     "text": [
      "{\n",
      "  \"environment_id\": \"9d4cd655-bc43-45a7-bba9-f592bd15cd96\",\n",
      "  \"name\": \"CORESEARCH\",\n",
      "  \"description\": \"\",\n",
      "  \"created\": \"2018-05-19T16:47:34.338Z\",\n",
      "  \"updated\": \"2018-05-19T16:47:34.338Z\",\n",
      "  \"status\": \"active\",\n",
      "  \"read_only\": false,\n",
      "  \"index_capacity\": {\n",
      "    \"documents\": {\n",
      "      \"available\": 0,\n",
      "      \"maximum_allowed\": 2000\n",
      "    },\n",
      "    \"disk_usage\": {\n",
      "      \"used_bytes\": 0,\n",
      "      \"maximum_allowed_bytes\": 200000000\n",
      "    },\n",
      "    \"collections\": {\n",
      "      \"available\": 0,\n",
      "      \"maximum_allowed\": 0\n",
      "    }\n",
      "  }\n",
      "}\n"
     ]
    }
   ],
   "source": [
    "# NEW ENVIRONMENT\n",
    "response = discovery.create_environment(\n",
    "    name=\"CORESEARCH\"\n",
    ")\n",
    "\n",
    "print(json.dumps(response, indent=2))"
   ]
  },
  {
   "cell_type": "code",
   "execution_count": 7,
   "metadata": {},
   "outputs": [],
   "source": [
    "attributes[\"env_id\"] = '9d4cd655-bc43-45a7-bba9-f592bd15cd96'"
   ]
  },
  {
   "cell_type": "code",
   "execution_count": 25,
   "metadata": {},
   "outputs": [
    {
     "name": "stdout",
     "output_type": "stream",
     "text": [
      "{\n",
      "  \"configurations\": [\n",
      "    {\n",
      "      \"configuration_id\": \"f80a7609-7fb6-4a59-b50c-92c467ebcee6\",\n",
      "      \"name\": \"Default Configuration\",\n",
      "      \"description\": \"The configuration used by default when creating a new collection without specifying a configuration_id.\",\n",
      "      \"created\": \"2018-05-19T16:47:34.379Z\",\n",
      "      \"updated\": \"2018-05-19T16:47:34.379Z\"\n",
      "    }\n",
      "  ]\n",
      "}\n"
     ]
    }
   ],
   "source": [
    "configs = discovery.list_configurations(attributes['env_id'])\n",
    "print(json.dumps(configs, indent=2))"
   ]
  },
  {
   "cell_type": "code",
   "execution_count": 8,
   "metadata": {},
   "outputs": [],
   "source": [
    "attributes['config_id'] = 'f80a7609-7fb6-4a59-b50c-92c467ebcee6' #Default Config"
   ]
  },
  {
   "cell_type": "code",
   "execution_count": 27,
   "metadata": {},
   "outputs": [
    {
     "name": "stdout",
     "output_type": "stream",
     "text": [
      "{\n",
      "  \"name\": \"IBET-Test\",\n",
      "  \"collection_id\": \"ced85a09-712a-4c8a-8a8b-7ca6e98c7587\",\n",
      "  \"description\": \"Collection of articles for IBET Project\",\n",
      "  \"created\": \"2018-05-19T16:50:52.057Z\",\n",
      "  \"updated\": \"2018-05-19T16:50:52.057Z\",\n",
      "  \"configuration_id\": \"f80a7609-7fb6-4a59-b50c-92c467ebcee6\",\n",
      "  \"language\": \"en\",\n",
      "  \"status\": \"active\"\n",
      "}\n"
     ]
    }
   ],
   "source": [
    "new_collection = discovery.create_collection(environment_id=attributes['env_id'], \n",
    "                                             name='IBET-Test', \n",
    "                                             description='Collection of articles for IBET Project')\n",
    "print(json.dumps(new_collection, indent=2))"
   ]
  },
  {
   "cell_type": "code",
   "execution_count": 28,
   "metadata": {},
   "outputs": [
    {
     "name": "stdout",
     "output_type": "stream",
     "text": [
      "{\n",
      "  \"collections\": [\n",
      "    {\n",
      "      \"collection_id\": \"ced85a09-712a-4c8a-8a8b-7ca6e98c7587\",\n",
      "      \"name\": \"IBET-Test\",\n",
      "      \"configuration_id\": \"f80a7609-7fb6-4a59-b50c-92c467ebcee6\",\n",
      "      \"language\": \"en\",\n",
      "      \"status\": \"active\",\n",
      "      \"description\": \"Collection of articles for IBET Project\",\n",
      "      \"created\": \"2018-05-19T16:50:52.057Z\",\n",
      "      \"updated\": \"2018-05-19T16:50:52.057Z\"\n",
      "    }\n",
      "  ]\n",
      "}\n"
     ]
    }
   ],
   "source": [
    "collections = discovery.list_collections(attributes['env_id'])\n",
    "print(json.dumps(collections, indent=2))"
   ]
  },
  {
   "cell_type": "code",
   "execution_count": 9,
   "metadata": {},
   "outputs": [],
   "source": [
    "attributes['collect_id'] = 'ced85a09-712a-4c8a-8a8b-7ca6e98c7587'"
   ]
  },
  {
   "cell_type": "code",
   "execution_count": 1,
   "metadata": {},
   "outputs": [],
   "source": [
    "from NatureJournal import NatureJournal"
   ]
  },
  {
   "cell_type": "code",
   "execution_count": 15,
   "metadata": {},
   "outputs": [],
   "source": [
    "res = NatureJournal.obtain_articles(\"aids\")"
   ]
  },
  {
   "cell_type": "code",
   "execution_count": 16,
   "metadata": {},
   "outputs": [],
   "source": [
    "data = NatureJournal.parse_response(res)"
   ]
  },
  {
   "cell_type": "code",
   "execution_count": 18,
   "metadata": {},
   "outputs": [
    {
     "data": {
      "text/plain": [
       "{'abstract': '<p>A multi-step protocol for preparation of draft genomes, specifically applicable to Nematoda. This includes initial library preparation, genome and transcriptome assembly, assembly QC/contamination screening and gene prediction. Both 454 and Illumina sequencing platforms are included. </p>',\n",
       " 'authorString': 'Martin  John, Mitreva  Makedonka',\n",
       " 'journal': 'Nature Journal',\n",
       " 'publicationDate': '2018-05-17',\n",
       " 'publisher': None,\n",
       " 'text': 'A multi-step protocol for preparation of draft genomes, specifically applicable to Nematoda. This includes initial library preparation, genome and transcriptome assembly, assembly QC/contamination screening and gene prediction. Both 454 and Illumina sequencing platforms are included. ',\n",
       " 'title': 'Genomic and transcriptomic data production for helminths',\n",
       " 'url': 'http://dx.doi.org/10.1038/protex.2018.044'}"
      ]
     },
     "execution_count": 18,
     "metadata": {},
     "output_type": "execute_result"
    }
   ],
   "source": [
    "item = data[0]\n",
    "item"
   ]
  },
  {
   "cell_type": "code",
   "execution_count": 19,
   "metadata": {},
   "outputs": [],
   "source": [
    "with open(\"documents/{}.json\".format(item['title']),\"w+\") as f:\n",
    "    f.write(json.dumps(item))"
   ]
  },
  {
   "cell_type": "code",
   "execution_count": 20,
   "metadata": {},
   "outputs": [],
   "source": [
    "with open(\"documents/{}.json\".format(item['title']),\"r\") as f:\n",
    "    add_doc = discovery.add_document(attributes['env_id'], attributes['collect_id'], file=f)"
   ]
  },
  {
   "cell_type": "code",
   "execution_count": 22,
   "metadata": {},
   "outputs": [
    {
     "data": {
      "text/plain": [
       "{'document_id': 'ff508765-3ef6-49e1-9268-e9922c8d3288', 'status': 'processing'}"
      ]
     },
     "execution_count": 22,
     "metadata": {},
     "output_type": "execute_result"
    }
   ],
   "source": [
    "add_doc"
   ]
  },
  {
   "cell_type": "code",
   "execution_count": null,
   "metadata": {},
   "outputs": [],
   "source": []
  }
 ],
 "metadata": {
  "kernelspec": {
   "display_name": "coresearch",
   "language": "python",
   "name": "coresearch"
  },
  "language_info": {
   "codemirror_mode": {
    "name": "ipython",
    "version": 3
   },
   "file_extension": ".py",
   "mimetype": "text/x-python",
   "name": "python",
   "nbconvert_exporter": "python",
   "pygments_lexer": "ipython3",
   "version": "3.6.5"
  }
 },
 "nbformat": 4,
 "nbformat_minor": 2
}
